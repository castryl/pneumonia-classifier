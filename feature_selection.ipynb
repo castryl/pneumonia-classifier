{
 "cells": [
  {
   "cell_type": "code",
   "execution_count": 1,
   "metadata": {},
   "outputs": [
    {
     "name": "stdout",
     "output_type": "stream",
     "text": [
      "FreeVerAvail - 0.00%\n",
      "CategoryInAppPurchase - 0.00%\n",
      "PlatformWindows - 0.00%\n",
      "SubscriptionAvail - 0.00%\n",
      "DRMNotice - 0.00%\n",
      "CategoryMMO - 0.02%\n",
      "CategoryVRSupport - 0.04%\n",
      "CategorySinglePlayer - 0.10%\n",
      "PublisherCount - 0.28%\n",
      "DeveloperCount - 0.52%\n",
      "DemoCount - 0.63%\n",
      "CategoryCoop - 0.88%\n",
      "CategoryMultiplayer - 1.19%\n",
      "PlatformMac - 1.33%\n",
      "PlatformLinux - 1.40%\n",
      "ControllerSupport - 1.61%\n",
      "RequiredAge - 3.60%\n",
      "MovieCount - 3.87%\n",
      "ScreenshotCount - 5.70%\n",
      "AchievementCount - 7.81%\n",
      "PriceInitial - 8.10%\n",
      "PackageCount - 11.06%\n",
      "Metacritic - 22.75%\n",
      "Age - 29.11%\n"
     ]
    }
   ],
   "source": [
    "import numpy as np\n",
    "from sklearn.externals import joblib\n",
    "\n",
    "# These are the feature labels from our data set\n",
    "feature_labels = np.array(['Age','RequiredAge','DemoCount',\n",
    "                            'DeveloperCount','Metacritic', 'MovieCount','PackageCount',\n",
    "                            'PublisherCount', 'ScreenshotCount', 'AchievementCount',\n",
    "                            'ControllerSupport', 'FreeVerAvail', 'SubscriptionAvail',\n",
    "                            'PlatformWindows', 'PlatformLinux', 'PlatformMac',\n",
    "                            'CategorySinglePlayer', 'CategoryMultiplayer', 'CategoryCoop',\n",
    "                            'CategoryMMO', 'CategoryInAppPurchase', 'CategoryVRSupport',\n",
    "                            'PriceInitial', 'DRMNotice'])\n",
    "\n",
    "# Load the trained model created with train_model.py\n",
    "model = joblib.load('models//trained_steam_sale_count_classifier.pk1')\n",
    "\n",
    "# Create a numpy array based on the model's feature importances\n",
    "importance = model.feature_importances_\n",
    "\n",
    "# Sort the feature labels based on the feature importance rankings from the model\n",
    "feature_indexes_by_importance = importance.argsort()\n",
    "\n",
    "# Print each feature label, from most important to least important (reverse order)\n",
    "for index in feature_indexes_by_importance:\n",
    "    print(\"{} - {:.2f}%\".format(feature_labels[index], (importance[index] * 100.0)))"
   ]
  }
 ],
 "metadata": {
  "kernelspec": {
   "display_name": "Python 3",
   "language": "python",
   "name": "python3"
  },
  "language_info": {
   "codemirror_mode": {
    "name": "ipython",
    "version": 3
   },
   "file_extension": ".py",
   "mimetype": "text/x-python",
   "name": "python",
   "nbconvert_exporter": "python",
   "pygments_lexer": "ipython3",
   "version": "3.6.8"
  }
 },
 "nbformat": 4,
 "nbformat_minor": 2
}
